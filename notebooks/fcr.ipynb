{
 "cells": [
  {
   "cell_type": "code",
   "execution_count": 2,
   "id": "ee30212c",
   "metadata": {},
   "outputs": [
    {
     "data": {
      "text/plain": [
       "(0.003448362, 0.004867541)"
      ]
     },
     "execution_count": 2,
     "metadata": {},
     "output_type": "execute_result"
    }
   ],
   "source": [
    "from typing import List\n",
    "import urllib.request\n",
    "import json\n",
    "import numpy as np\n",
    "\n",
    "def get_fcr_prices() -> tuple[float, float]:\n",
    "        \"\"\"\n",
    "        Get the most recent FCR-D prices for the DK2 price area.\n",
    "        It is a pay-as-clear market, so the prices are the ones that were actually paid.\n",
    "\n",
    "        Returns:\n",
    "            tuple[float, float]: The most recent FCR-D down and up prices in EUR/kW.\n",
    "        \"\"\"\n",
    "        url = f\"https://api.energidataservice.dk/dataset/FcrNdDK2?limit=100\"\n",
    "        response = urllib.request.urlopen(url)\n",
    "        data = json.loads(response.read())\n",
    "\n",
    "        # Filter for DK2 and AuctionType \"Total\"\n",
    "        filtered_records = [\n",
    "            r for r in data['records']\n",
    "            if r[\"PriceArea\"] == \"DK2\" and r[\"AuctionType\"] == \"Total\"\n",
    "        ]\n",
    "        \n",
    "        # Sort by HourUTC descending to get most recent first\n",
    "        filtered_records.sort(key=lambda r: r[\"HourUTC\"], reverse=True)\n",
    "        \n",
    "        # Extract prices from the most recent timestamp\n",
    "        fcr_d_down_price: float | None = None\n",
    "        fcr_d_up_price: float | None = None\n",
    "        \n",
    "        for r in filtered_records:\n",
    "            if r[\"ProductName\"] == \"FCR-D ned\" and fcr_d_down_price is None:\n",
    "                fcr_d_down_price = r[\"PriceTotalEUR\"]\n",
    "            elif r[\"ProductName\"] == \"FCR-D upp\" and fcr_d_up_price is None:\n",
    "                fcr_d_up_price = r[\"PriceTotalEUR\"]\n",
    "            \n",
    "            # Break early if we have both prices from the most recent timestamp\n",
    "            if fcr_d_down_price is not None and fcr_d_up_price is not None:\n",
    "                break\n",
    "        \n",
    "        if fcr_d_down_price is None or fcr_d_up_price is None:\n",
    "            print(\"Could not find FCR-D prices for DK2\")\n",
    "            return 0.0, 0.0\n",
    "        \n",
    "        return fcr_d_down_price / 1_000, fcr_d_up_price / 1_000\n",
    "\n",
    "get_fcr_prices()"
   ]
  }
 ],
 "metadata": {
  "kernelspec": {
   "display_name": ".venv",
   "language": "python",
   "name": "python3"
  },
  "language_info": {
   "codemirror_mode": {
    "name": "ipython",
    "version": 3
   },
   "file_extension": ".py",
   "mimetype": "text/x-python",
   "name": "python",
   "nbconvert_exporter": "python",
   "pygments_lexer": "ipython3",
   "version": "3.13.5"
  }
 },
 "nbformat": 4,
 "nbformat_minor": 5
}
