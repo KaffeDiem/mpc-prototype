{
 "cells": [
  {
   "cell_type": "code",
   "execution_count": 10,
   "id": "ee30212c",
   "metadata": {},
   "outputs": [
    {
     "data": {
      "text/plain": [
       "(np.float64(0.002761248), np.float64(0.004865642))"
      ]
     },
     "execution_count": 10,
     "metadata": {},
     "output_type": "execute_result"
    }
   ],
   "source": [
    "from typing import List\n",
    "import urllib.request\n",
    "import json\n",
    "import numpy as np\n",
    "\n",
    "def get_fcr_prices() -> tuple[float, float]:\n",
    "    \"\"\"\n",
    "    Get the historical FCR-D prices.\n",
    "    It is a pay-as-clear market, so the prices are the ones that were actually paid.\n",
    "    We choose to use the minimum prices, such that we are more likely to undershoot the price.\n",
    "\n",
    "    Returns:\n",
    "        tuple[float, float]: The minimum FCR-D down and up prices in EUR/kW.\n",
    "    \"\"\"\n",
    "    url = f\"https://api.energidataservice.dk/dataset/FcrNdDK2?limit=100\"\n",
    "    response = urllib.request.urlopen(url)\n",
    "    data = json.loads(response.read())\n",
    "\n",
    "    fcr_d_down_prices: np.ndarray = np.array([], dtype=float)\n",
    "    fcr_d_up_prices: np.ndarray = np.array([], dtype=float)\n",
    "    for r in data['records']:\n",
    "        if r[\"AuctionType\"] == \"Total\":\n",
    "            if r[\"ProductName\"] == \"FCR-D ned\":\n",
    "                fcr_d_down_prices = np.append(fcr_d_down_prices, r[\"PriceTotalEUR\"])\n",
    "            elif r[\"ProductName\"] == \"FCR-D upp\":\n",
    "                fcr_d_up_prices = np.append(fcr_d_up_prices, r[\"PriceTotalEUR\"])\n",
    "    return fcr_d_down_prices.min() / 1_000, fcr_d_up_prices.min() / 1_000\n",
    "\n",
    "get_fcr_prices()"
   ]
  }
 ],
 "metadata": {
  "kernelspec": {
   "display_name": ".venv",
   "language": "python",
   "name": "python3"
  },
  "language_info": {
   "codemirror_mode": {
    "name": "ipython",
    "version": 3
   },
   "file_extension": ".py",
   "mimetype": "text/x-python",
   "name": "python",
   "nbconvert_exporter": "python",
   "pygments_lexer": "ipython3",
   "version": "3.13.5"
  }
 },
 "nbformat": 4,
 "nbformat_minor": 5
}
