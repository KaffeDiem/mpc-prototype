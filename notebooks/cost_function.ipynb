{
 "cells": [
  {
   "cell_type": "code",
   "execution_count": 19,
   "id": "406421cb",
   "metadata": {},
   "outputs": [],
   "source": [
    "from enum import Enum\n",
    "from scipy.optimize import differential_evolution\n",
    "import numpy as np\n",
    "import matplotlib.pyplot as plt\n",
    "from typing import List"
   ]
  },
  {
   "cell_type": "code",
   "execution_count": 20,
   "id": "5d1bb69f",
   "metadata": {},
   "outputs": [
    {
     "name": "stdout",
     "output_type": "stream",
     "text": [
      "Actions | Temps | Price\n",
      "OFF     | 19.50 | 1.00\n",
      "OFF     | 19.00 | 10.00\n",
      "OFF     | 18.50 | 10.00\n",
      "ON      | 20.00 | 1.00\n",
      "OFF     | 19.50 | 10.00\n",
      "OFF     | 19.00 | 10.00\n",
      "ON      | 20.50 | 1.00\n",
      "OFF     | 20.00 | 1.00\n",
      "ON      | 21.50 | 1.00\n",
      "OFF     | 21.00 | 1.00\n",
      "OFF     | 20.50 | 10.00\n",
      "ON      | 22.00 | 10.00\n",
      "OFF     | 21.50 | 100.00\n",
      "OFF     | 21.00 | 1.00\n",
      "OFF     | 20.50 | 1.00\n",
      "Total cost:  168.0\n",
      "Best action:  0.15826783150752155\n"
     ]
    }
   ],
   "source": [
    "PRICES = np.array([1, 10, 10, 1, 10, 10, 1, 1, 1, 1, 10, 10, 100, 1, 1])\n",
    "COOLING_PER_HOUR = 0.5\n",
    "HEATING_PER_HOUR = 2.0\n",
    "\n",
    "START_TEMP = 20.0\n",
    "MIN_TEMP = 18.0\n",
    "MAX_TEMP = 22.0\n",
    "PENALTY_SCALE = 1_000.0\n",
    "BINARY_REG_SCALE = 1e-2  # small, encourages 0/1 while keeping smoothness\n",
    "\n",
    "def objective(actions: np.ndarray) -> float:\n",
    "    temp = START_TEMP\n",
    "    cost = 0\n",
    "    for i, a in enumerate(actions): \n",
    "        action = \"ON\" if a > 0.5 else \"OFF\"\n",
    "        temp -= COOLING_PER_HOUR\n",
    "        if action == \"ON\":\n",
    "            temp += HEATING_PER_HOUR\n",
    "        cost += PRICES[i] \n",
    "\n",
    "        if temp < MIN_TEMP:\n",
    "            penalty = PENALTY_SCALE * (MIN_TEMP - temp) ** 3\n",
    "            cost += penalty\n",
    "        if temp > MAX_TEMP:\n",
    "            penalty = PENALTY_SCALE * (temp - MAX_TEMP) ** 3\n",
    "            cost += penalty\n",
    "\n",
    "    return cost\n",
    "\n",
    "\n",
    "x0 = np.full(len(PRICES), 0.5)  # nontrivial start to avoid flat region\n",
    "bounds = [(0, 1)] * len(PRICES)\n",
    "result = differential_evolution(objective, bounds, maxiter=1000, polish=False)\n",
    "\n",
    "temp = START_TEMP\n",
    "print(\"Actions | Temps | Price\")\n",
    "for i, x in enumerate(result.x):\n",
    "    action = \"ON\" if x > 0.5 else \"OFF\"\n",
    "    temp -= COOLING_PER_HOUR\n",
    "    if action == \"ON\":\n",
    "        temp += HEATING_PER_HOUR\n",
    "    print(f\"{action:7s} | {temp:.2f} | {PRICES[i]:.2f}\")\n",
    "\n",
    "print(\"Total cost: \", result.fun)\n",
    "print(\"Best action: \", result.x[0])\n",
    "\n"
   ]
  }
 ],
 "metadata": {
  "kernelspec": {
   "display_name": ".venv",
   "language": "python",
   "name": "python3"
  },
  "language_info": {
   "codemirror_mode": {
    "name": "ipython",
    "version": 3
   },
   "file_extension": ".py",
   "mimetype": "text/x-python",
   "name": "python",
   "nbconvert_exporter": "python",
   "pygments_lexer": "ipython3",
   "version": "3.13.5"
  }
 },
 "nbformat": 4,
 "nbformat_minor": 5
}
